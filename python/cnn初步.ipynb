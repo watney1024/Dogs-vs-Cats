{
 "cells": [
  {
   "cell_type": "markdown",
   "metadata": {
    "collapsed": false,
    "jupyter": {
     "outputs_hidden": false
    }
   },
   "source": [
    "# 导入库"
   ]
  },
  {
   "cell_type": "code",
   "execution_count": 2,
   "metadata": {
    "collapsed": false,
    "jupyter": {
     "outputs_hidden": false
    }
   },
   "outputs": [],
   "source": [
    "import torch\n",
    "from torch import nn\n",
    "import matplotlib.pyplot as plt\n",
    "from torch.utils.data import DataLoader, Dataset\n",
    "from torchvision import transforms\n",
    "from torch.optim import lr_scheduler\n",
    "import torch.nn.functional as F\n",
    "from torchvision.datasets import ImageFolder"
   ]
  },
  {
   "cell_type": "markdown",
   "metadata": {
    "collapsed": false,
    "jupyter": {
     "outputs_hidden": false
    }
   },
   "source": [
    "# 读取数据"
   ]
  },
  {
   "cell_type": "code",
   "execution_count": 3,
   "metadata": {
    "collapsed": false,
    "jupyter": {
     "outputs_hidden": false
    },
    "ExecuteTime": {
     "end_time": "2024-11-01T03:13:14.705643700Z",
     "start_time": "2024-11-01T03:13:14.690214900Z"
    }
   },
   "outputs": [],
   "source": [
    "# 读取数据\n",
    "# 训练集目录\n",
    "TRAIN_DIRS = ['./dataset_torch/train1', './dataset_torch/train2', './dataset_torch/train3', './dataset_torch/train4', './dataset_torch/train5']\n",
    "# 验证集目录\n",
    "VAL_DIRS = ['./dataset_torch/val1', './dataset_torch/val2', './dataset_torch/val3', './dataset_torch/val4', './dataset_torch/val5']\n",
    "\n",
    "# 解决中文显示问题\n",
    "plt.rcParams['font.sans-serif'] = ['SimHei']\n",
    "plt.rcParams['axes.unicode_minus'] = False"
   ]
  },
  {
   "cell_type": "markdown",
   "metadata": {
    "collapsed": false,
    "jupyter": {
     "outputs_hidden": false
    }
   },
   "source": [
    "# 数据处理"
   ]
  },
  {
   "cell_type": "code",
   "execution_count": 3,
   "metadata": {
    "ExecuteTime": {
     "end_time": "2024-10-16T02:48:45.823071400Z",
     "start_time": "2024-10-16T02:48:45.804211800Z"
    },
    "collapsed": false,
    "jupyter": {
     "outputs_hidden": false
    }
   },
   "outputs": [],
   "source": [
    "# 定义归一化转换，将像素值归一化到 [-1, 1] 之间\n",
    "normalize = transforms.Normalize([0.5, 0.5, 0.5], [0.5, 0.5, 0.5])\n",
    "\n",
    "train_transform = transforms.Compose([\n",
    "    transforms.Resize((150, 150)),\n",
    "    transforms.ToTensor(),\n",
    "    normalize  # 应用归一化\n",
    "])\n",
    "\n",
    "val_transform = transforms.Compose([\n",
    "    transforms.Resize((150, 150)),\n",
    "    transforms.ToTensor(),\n",
    "    normalize  # 应用归一化\n",
    "])"
   ]
  },
  {
   "cell_type": "markdown",
   "metadata": {
    "collapsed": false,
    "jupyter": {
     "outputs_hidden": false
    }
   },
   "source": [
    "# CUDA加速"
   ]
  },
  {
   "cell_type": "code",
   "execution_count": 5,
   "metadata": {
    "ExecuteTime": {
     "end_time": "2024-10-16T03:41:58.862127100Z",
     "start_time": "2024-10-16T03:41:58.824421800Z"
    },
    "collapsed": false,
    "jupyter": {
     "outputs_hidden": false
    }
   },
   "outputs": [],
   "source": [
    "device = 'cuda' if torch.cuda.is_available() else 'cpu'\n",
    "torch.manual_seed(1234)\n",
    "if device =='cuda':\n",
    "    torch.cuda.manual_seed_all(1234)"
   ]
  },
  {
   "cell_type": "markdown",
   "metadata": {
    "collapsed": false,
    "jupyter": {
     "outputs_hidden": false
    }
   },
   "source": [
    "# CNN神经网络"
   ]
  },
  {
   "cell_type": "code",
   "execution_count": 6,
   "metadata": {
    "ExecuteTime": {
     "end_time": "2024-10-16T03:42:00.574057Z",
     "start_time": "2024-10-16T03:42:00.351371200Z"
    },
    "collapsed": false,
    "jupyter": {
     "outputs_hidden": false
    }
   },
   "outputs": [
    {
     "name": "stdout",
     "output_type": "stream",
     "text": [
      "Cnn(\n",
      "  (layer1): Sequential(\n",
      "    (0): Conv2d(3, 32, kernel_size=(3, 3), stride=(1, 1))\n",
      "    (1): ReLU()\n",
      "    (2): MaxPool2d(kernel_size=2, stride=2, padding=0, dilation=1, ceil_mode=False)\n",
      "  )\n",
      "  (layer2): Sequential(\n",
      "    (0): Conv2d(32, 32, kernel_size=(3, 3), stride=(1, 1))\n",
      "    (1): ReLU()\n",
      "    (2): MaxPool2d(kernel_size=2, stride=2, padding=0, dilation=1, ceil_mode=False)\n",
      "  )\n",
      "  (layer3): Sequential(\n",
      "    (0): Conv2d(32, 64, kernel_size=(3, 3), stride=(1, 1))\n",
      "    (1): ReLU()\n",
      "    (2): MaxPool2d(kernel_size=2, stride=2, padding=0, dilation=1, ceil_mode=False)\n",
      "  )\n",
      "  (flatten): Flatten(start_dim=1, end_dim=-1)\n",
      "  (fc1): Linear(in_features=18496, out_features=128, bias=True)\n",
      "  (dropout): Dropout(p=0.5, inplace=False)\n",
      "  (fc2): Linear(in_features=128, out_features=1, bias=True)\n",
      ")\n"
     ]
    }
   ],
   "source": [
    "class Cnn(nn.Module):\n",
    "    def __init__(self, input_shape):\n",
    "        super(Cnn, self).__init__()\n",
    "        self.input_shape = input_shape\n",
    "\n",
    "        self.layer1 = nn.Sequential(\n",
    "            nn.Conv2d(in_channels=input_shape[0], out_channels=32, kernel_size=3, padding=0, stride = 1),\n",
    "            nn.ReLU(),\n",
    "            nn.MaxPool2d(kernel_size=2, stride=2)\n",
    "        )\n",
    "\n",
    "        self.layer2 = nn.Sequential(\n",
    "            nn.Conv2d(in_channels=32, out_channels=32, kernel_size=3, padding=0),\n",
    "            nn.ReLU(),\n",
    "            nn.MaxPool2d(kernel_size=2, stride=2)\n",
    "        )\n",
    "\n",
    "        self.layer3 = nn.Sequential(\n",
    "            nn.Conv2d(in_channels=32, out_channels=64, kernel_size=3, padding=0),\n",
    "            nn.ReLU(),\n",
    "            nn.MaxPool2d(kernel_size=2, stride=2)\n",
    "        )\n",
    "\n",
    "        self.flatten = nn.Flatten()\n",
    "        self.fc1 = nn.Linear(18496, 128)\n",
    "        self.dropout = nn.Dropout(0.5)\n",
    "        self.fc2 = nn.Linear(128, 1)\n",
    "\n",
    "    def forward(self, x):\n",
    "        x = self.layer1(x)\n",
    "        x = self.layer2(x)\n",
    "        x = self.layer3(x)\n",
    "        x = self.flatten(x)\n",
    "        x = F.relu(self.fc1(x))\n",
    "        x = self.dropout(x)\n",
    "        x = torch.sigmoid(self.fc2(x))\n",
    "        return x.squeeze(1)\n",
    "\n",
    "input_shape = (3, 150, 150)\n",
    "model = Cnn(input_shape).to(device)\n",
    "print(model)\n",
    "from torchsummary import summary\n",
    "#summary(model, input_size=input_shape)"
   ]
  },
  {
   "cell_type": "markdown",
   "metadata": {
    "collapsed": false,
    "jupyter": {
     "outputs_hidden": false
    }
   },
   "source": [
    "# 损失函数和优化器"
   ]
  },
  {
   "cell_type": "code",
   "execution_count": 6,
   "metadata": {
    "ExecuteTime": {
     "end_time": "2024-09-28T08:06:02.289452700Z",
     "start_time": "2024-09-28T08:06:02.274597200Z"
    },
    "collapsed": false,
    "jupyter": {
     "outputs_hidden": false
    }
   },
   "outputs": [],
   "source": [
    "# 定义一个损失函数\n",
    "loss_fn = nn.BCELoss()\n",
    "# 定义一个优化器\n",
    "optimizer = torch.optim.Adam(model.parameters(), lr=1e-4)\n",
    "# 学习率每隔10轮变为原来的0.5\n",
    "lr_scheduler = lr_scheduler.StepLR(optimizer, step_size=10, gamma=0.5)"
   ]
  },
  {
   "cell_type": "markdown",
   "metadata": {
    "collapsed": false,
    "jupyter": {
     "outputs_hidden": false
    }
   },
   "source": [
    "# 训练函数"
   ]
  },
  {
   "cell_type": "code",
   "execution_count": 7,
   "metadata": {
    "ExecuteTime": {
     "end_time": "2024-09-28T08:06:02.312268700Z",
     "start_time": "2024-09-28T08:06:02.293811300Z"
    },
    "collapsed": false,
    "jupyter": {
     "outputs_hidden": false
    }
   },
   "outputs": [],
   "source": [
    "# 定义训练函数\n",
    "def train(dataloader, model, loss_fn, optimizer):\n",
    "    model.train()\n",
    "    loss, current, n = 0.0, 0.0, 0\n",
    "    for batch, (x, y) in enumerate(dataloader):\n",
    "        image, y = x.to(device), y.to(device).float()  # Ensure y is float\n",
    "        output = model(image)\n",
    "        cur_loss = loss_fn(output, y)\n",
    "        cur_acc = torch.sum((y == output.round()).int()).float() / output.shape[0]\n",
    "\n",
    "        # 反向传播\n",
    "        optimizer.zero_grad()\n",
    "        cur_loss.backward()\n",
    "        optimizer.step()\n",
    "        loss += cur_loss.item()\n",
    "        current += cur_acc.item()\n",
    "        n = n+1\n",
    "\n",
    "    train_loss = loss / n\n",
    "    train_acc = current / n\n",
    "    print('train_loss: {:.4f}     train_acc: {:.4f}'.format(train_loss, train_acc))\n",
    "    return train_loss, train_acc"
   ]
  },
  {
   "cell_type": "markdown",
   "metadata": {
    "collapsed": false,
    "jupyter": {
     "outputs_hidden": false
    }
   },
   "source": [
    "# 验证函数"
   ]
  },
  {
   "cell_type": "code",
   "execution_count": 8,
   "metadata": {
    "ExecuteTime": {
     "end_time": "2024-09-28T08:06:02.330116Z",
     "start_time": "2024-09-28T08:06:02.308784Z"
    },
    "collapsed": false,
    "jupyter": {
     "outputs_hidden": false
    }
   },
   "outputs": [],
   "source": [
    "def val(dataloader, model, loss_fn):\n",
    "    # 将模型转化为验证模型\n",
    "    model.eval()\n",
    "    loss, current, n = 0.0, 0.0, 0\n",
    "    with torch.no_grad():\n",
    "        for batch, (x, y) in enumerate(dataloader):\n",
    "            image, y = x.to(device), y.to(device).float()  # Ensure y is float\n",
    "            output = model(image)\n",
    "            cur_loss = loss_fn(output, y)\n",
    "            cur_acc = torch.sum((y == output.round()).int()).float() / output.shape[0]\n",
    "            loss += cur_loss.item()\n",
    "            current += cur_acc.item()\n",
    "            n = n + 1\n",
    "\n",
    "    val_loss = loss / n\n",
    "    val_acc = current / n\n",
    "    print('val_loss: {:.4f}     val_acc: {:.4f}'.format(val_loss, val_acc))\n",
    "    print()\n",
    "    return val_loss, val_acc"
   ]
  },
  {
   "cell_type": "code",
   "execution_count": 9,
   "metadata": {
    "ExecuteTime": {
     "end_time": "2024-09-28T08:06:27.603347200Z",
     "start_time": "2024-09-28T08:06:27.584650400Z"
    },
    "collapsed": false,
    "jupyter": {
     "outputs_hidden": false
    }
   },
   "outputs": [],
   "source": [
    "# 定义画图函数\n",
    "def matplot_loss(train_loss, val_loss):\n",
    "    plt.plot(train_loss, label='train_loss')\n",
    "    plt.plot(val_loss, label='val_loss')\n",
    "    plt.legend(loc='best')\n",
    "    plt.ylabel('loss')\n",
    "    plt.xlabel('epoch')\n",
    "    plt.title(\"训练集和验证集loss值对比图\")\n",
    "    plt.show()\n",
    "\n",
    "def matplot_acc(train_acc, val_acc):\n",
    "    plt.plot(train_acc, label='train_acc')\n",
    "    plt.plot(val_acc, label='val_acc')\n",
    "    plt.legend(loc='best')\n",
    "    plt.ylabel('acc')\n",
    "    plt.xlabel('epoch')\n",
    "    plt.title(\"训练集和验证集acc值对比图\")\n",
    "    plt.show()"
   ]
  },
  {
   "cell_type": "markdown",
   "metadata": {
    "collapsed": false,
    "jupyter": {
     "outputs_hidden": false
    }
   },
   "source": [
    "# 开始训练"
   ]
  },
  {
   "cell_type": "code",
   "execution_count": 10,
   "metadata": {
    "ExecuteTime": {
     "end_time": "2024-09-28T08:16:06.404264100Z",
     "start_time": "2024-09-28T08:06:28.375660Z"
    },
    "collapsed": false,
    "jupyter": {
     "outputs_hidden": false
    }
   },
   "outputs": [
    {
     "name": "stdout",
     "output_type": "stream",
     "text": [
      "epoch1\n",
      "-----------\n",
      "train_loss: 0.6924     train_acc: 0.5106\n",
      "val_loss: 0.6869     val_acc: 0.5125\n",
      "\n",
      "epoch2\n",
      "-----------\n",
      "train_loss: 0.6771     train_acc: 0.5644\n",
      "val_loss: 0.6715     val_acc: 0.5925\n",
      "\n",
      "epoch3\n",
      "-----------\n",
      "train_loss: 0.6380     train_acc: 0.6431\n",
      "val_loss: 0.6371     val_acc: 0.6375\n",
      "\n",
      "epoch4\n",
      "-----------\n",
      "train_loss: 0.6199     train_acc: 0.6525\n",
      "val_loss: 0.6189     val_acc: 0.6550\n",
      "\n",
      "epoch5\n",
      "-----------\n",
      "train_loss: 0.5779     train_acc: 0.7069\n",
      "val_loss: 0.5927     val_acc: 0.6750\n",
      "\n",
      "epoch6\n",
      "-----------\n",
      "train_loss: 0.5523     train_acc: 0.7200\n",
      "val_loss: 0.5791     val_acc: 0.6975\n",
      "\n",
      "epoch7\n",
      "-----------\n",
      "train_loss: 0.5548     train_acc: 0.7206\n",
      "val_loss: 0.5955     val_acc: 0.7025\n",
      "\n",
      "epoch8\n",
      "-----------\n",
      "train_loss: 0.5231     train_acc: 0.7494\n",
      "val_loss: 0.5668     val_acc: 0.6950\n",
      "\n",
      "epoch9\n",
      "-----------\n",
      "train_loss: 0.5082     train_acc: 0.7625\n",
      "val_loss: 0.5875     val_acc: 0.6950\n",
      "\n",
      "epoch10\n",
      "-----------\n",
      "train_loss: 0.4777     train_acc: 0.7769\n",
      "val_loss: 0.5640     val_acc: 0.7300\n",
      "\n",
      "epoch11\n",
      "-----------\n",
      "train_loss: 0.4610     train_acc: 0.7900\n",
      "val_loss: 0.5901     val_acc: 0.6875\n",
      "\n",
      "epoch12\n",
      "-----------\n",
      "train_loss: 0.4436     train_acc: 0.8025\n",
      "val_loss: 0.5700     val_acc: 0.7300\n",
      "\n",
      "epoch13\n",
      "-----------\n",
      "train_loss: 0.4229     train_acc: 0.8063\n",
      "val_loss: 0.5933     val_acc: 0.7300\n",
      "\n",
      "epoch14\n",
      "-----------\n",
      "train_loss: 0.4047     train_acc: 0.8225\n",
      "val_loss: 0.5654     val_acc: 0.7275\n",
      "\n",
      "epoch15\n",
      "-----------\n",
      "train_loss: 0.3845     train_acc: 0.8319\n",
      "val_loss: 0.5738     val_acc: 0.7300\n",
      "\n",
      "epoch16\n",
      "-----------\n",
      "train_loss: 0.3685     train_acc: 0.8356\n",
      "val_loss: 0.6112     val_acc: 0.7050\n",
      "\n",
      "epoch17\n",
      "-----------\n",
      "train_loss: 0.3583     train_acc: 0.8462\n",
      "val_loss: 0.6383     val_acc: 0.7100\n",
      "\n",
      "epoch18\n",
      "-----------\n",
      "train_loss: 0.3266     train_acc: 0.8644\n",
      "val_loss: 0.5979     val_acc: 0.7100\n",
      "\n",
      "epoch19\n",
      "-----------\n",
      "train_loss: 0.3067     train_acc: 0.8825\n",
      "val_loss: 0.5948     val_acc: 0.7225\n",
      "\n",
      "epoch20\n",
      "-----------\n",
      "train_loss: 0.2935     train_acc: 0.8881\n",
      "val_loss: 0.6483     val_acc: 0.7075\n",
      "\n",
      "epoch21\n",
      "-----------\n",
      "train_loss: 0.2805     train_acc: 0.8862\n",
      "val_loss: 0.6607     val_acc: 0.7250\n",
      "\n",
      "epoch22\n",
      "-----------\n",
      "train_loss: 0.2546     train_acc: 0.8994\n",
      "val_loss: 0.7139     val_acc: 0.7125\n",
      "\n",
      "epoch23\n",
      "-----------\n",
      "train_loss: 0.2275     train_acc: 0.9137\n",
      "val_loss: 0.7373     val_acc: 0.7100\n",
      "\n",
      "epoch24\n",
      "-----------\n",
      "train_loss: 0.2141     train_acc: 0.9206\n",
      "val_loss: 0.7604     val_acc: 0.7200\n",
      "\n",
      "epoch25\n",
      "-----------\n",
      "train_loss: 0.2019     train_acc: 0.9287\n",
      "val_loss: 0.7374     val_acc: 0.7225\n",
      "\n",
      "epoch26\n",
      "-----------\n",
      "train_loss: 0.1933     train_acc: 0.9363\n",
      "val_loss: 0.8014     val_acc: 0.7225\n",
      "\n",
      "epoch27\n",
      "-----------\n",
      "train_loss: 0.1718     train_acc: 0.9363\n",
      "val_loss: 0.7761     val_acc: 0.7275\n",
      "\n",
      "epoch28\n",
      "-----------\n",
      "train_loss: 0.1516     train_acc: 0.9450\n",
      "val_loss: 0.8231     val_acc: 0.7075\n",
      "\n",
      "epoch29\n",
      "-----------\n",
      "train_loss: 0.1347     train_acc: 0.9600\n",
      "val_loss: 0.8817     val_acc: 0.6950\n",
      "\n",
      "epoch30\n",
      "-----------\n",
      "train_loss: 0.1252     train_acc: 0.9619\n",
      "val_loss: 0.8720     val_acc: 0.7125\n",
      "\n",
      "epoch31\n",
      "-----------\n",
      "train_loss: 0.1177     train_acc: 0.9650\n",
      "val_loss: 0.9104     val_acc: 0.7175\n",
      "\n",
      "epoch32\n",
      "-----------\n",
      "train_loss: 0.1055     train_acc: 0.9719\n",
      "val_loss: 0.9451     val_acc: 0.7000\n",
      "\n",
      "epoch33\n",
      "-----------\n",
      "train_loss: 0.0977     train_acc: 0.9719\n",
      "val_loss: 0.9955     val_acc: 0.7125\n",
      "\n",
      "epoch34\n",
      "-----------\n",
      "train_loss: 0.0853     train_acc: 0.9756\n",
      "val_loss: 1.0369     val_acc: 0.7150\n",
      "\n",
      "epoch35\n",
      "-----------\n",
      "train_loss: 0.0770     train_acc: 0.9775\n",
      "val_loss: 1.0581     val_acc: 0.7050\n",
      "\n",
      "epoch36\n",
      "-----------\n",
      "train_loss: 0.0693     train_acc: 0.9812\n",
      "val_loss: 1.0967     val_acc: 0.7200\n",
      "\n",
      "epoch37\n",
      "-----------\n",
      "train_loss: 0.0691     train_acc: 0.9806\n",
      "val_loss: 1.0869     val_acc: 0.7125\n",
      "\n",
      "epoch38\n",
      "-----------\n",
      "train_loss: 0.0653     train_acc: 0.9800\n",
      "val_loss: 1.1217     val_acc: 0.7125\n",
      "\n",
      "epoch39\n",
      "-----------\n",
      "train_loss: 0.0570     train_acc: 0.9888\n",
      "val_loss: 1.1566     val_acc: 0.7025\n",
      "\n",
      "epoch40\n",
      "-----------\n",
      "train_loss: 0.0457     train_acc: 0.9900\n",
      "val_loss: 1.2295     val_acc: 0.7075\n",
      "\n",
      "epoch41\n",
      "-----------\n",
      "train_loss: 0.0442     train_acc: 0.9894\n",
      "val_loss: 1.1842     val_acc: 0.7100\n",
      "\n",
      "epoch42\n",
      "-----------\n",
      "train_loss: 0.0404     train_acc: 0.9919\n",
      "val_loss: 1.2790     val_acc: 0.7150\n",
      "\n",
      "epoch43\n",
      "-----------\n",
      "train_loss: 0.0428     train_acc: 0.9894\n",
      "val_loss: 1.2880     val_acc: 0.7075\n",
      "\n",
      "epoch44\n",
      "-----------\n",
      "train_loss: 0.0353     train_acc: 0.9969\n",
      "val_loss: 1.3561     val_acc: 0.7150\n",
      "\n",
      "epoch45\n",
      "-----------\n",
      "train_loss: 0.0385     train_acc: 0.9938\n",
      "val_loss: 1.4354     val_acc: 0.7025\n",
      "\n",
      "epoch46\n",
      "-----------\n",
      "train_loss: 0.0313     train_acc: 0.9906\n",
      "val_loss: 1.3140     val_acc: 0.7100\n",
      "\n",
      "epoch47\n",
      "-----------\n",
      "train_loss: 0.0286     train_acc: 0.9975\n",
      "val_loss: 1.9182     val_acc: 0.7050\n",
      "\n",
      "epoch48\n",
      "-----------\n",
      "train_loss: 0.0291     train_acc: 0.9931\n",
      "val_loss: 1.6464     val_acc: 0.7025\n",
      "\n",
      "epoch49\n",
      "-----------\n",
      "train_loss: 0.0287     train_acc: 0.9938\n",
      "val_loss: 1.7355     val_acc: 0.7175\n",
      "\n",
      "epoch50\n",
      "-----------\n",
      "train_loss: 0.0280     train_acc: 0.9938\n",
      "val_loss: 1.8852     val_acc: 0.7050\n",
      "\n",
      "epoch51\n",
      "-----------\n",
      "train_loss: 0.0197     train_acc: 0.9962\n",
      "val_loss: 2.4323     val_acc: 0.7100\n",
      "\n",
      "epoch52\n",
      "-----------\n",
      "train_loss: 0.0365     train_acc: 0.9875\n",
      "val_loss: 2.0776     val_acc: 0.7175\n",
      "\n",
      "epoch53\n",
      "-----------\n",
      "train_loss: 0.0299     train_acc: 0.9969\n",
      "val_loss: 2.7144     val_acc: 0.6900\n",
      "\n",
      "epoch54\n",
      "-----------\n",
      "train_loss: 0.0229     train_acc: 0.9944\n",
      "val_loss: 1.5617     val_acc: 0.7000\n",
      "\n",
      "epoch55\n",
      "-----------\n",
      "train_loss: 0.0206     train_acc: 0.9956\n",
      "val_loss: 2.4483     val_acc: 0.7025\n",
      "\n",
      "epoch56\n",
      "-----------\n",
      "train_loss: 0.0311     train_acc: 0.9919\n",
      "val_loss: 1.7663     val_acc: 0.7075\n",
      "\n",
      "epoch57\n",
      "-----------\n",
      "train_loss: 0.0268     train_acc: 0.9938\n",
      "val_loss: 2.7124     val_acc: 0.6950\n",
      "\n",
      "epoch58\n",
      "-----------\n",
      "train_loss: 0.0244     train_acc: 0.9938\n",
      "val_loss: 2.0339     val_acc: 0.7025\n",
      "\n",
      "epoch59\n",
      "-----------\n",
      "train_loss: 0.0161     train_acc: 0.9975\n",
      "val_loss: 2.5952     val_acc: 0.6975\n",
      "\n",
      "epoch60\n",
      "-----------\n",
      "train_loss: 0.0184     train_acc: 0.9950\n",
      "val_loss: 2.6731     val_acc: 0.7125\n",
      "\n",
      "epoch61\n",
      "-----------\n",
      "train_loss: 0.0205     train_acc: 0.9956\n",
      "val_loss: 2.5429     val_acc: 0.7050\n",
      "\n",
      "epoch62\n",
      "-----------\n",
      "train_loss: 0.0134     train_acc: 0.9988\n",
      "val_loss: 2.8095     val_acc: 0.7050\n",
      "\n",
      "epoch63\n",
      "-----------\n",
      "train_loss: 0.0102     train_acc: 0.9988\n",
      "val_loss: 2.8250     val_acc: 0.6900\n",
      "\n",
      "epoch64\n",
      "-----------\n",
      "train_loss: 0.0107     train_acc: 0.9981\n",
      "val_loss: 2.8457     val_acc: 0.7125\n",
      "\n",
      "epoch65\n",
      "-----------\n",
      "train_loss: 0.0098     train_acc: 0.9981\n",
      "val_loss: 2.8357     val_acc: 0.7125\n",
      "\n",
      "epoch66\n",
      "-----------\n",
      "train_loss: 0.0146     train_acc: 0.9969\n",
      "val_loss: 2.8069     val_acc: 0.7025\n",
      "\n",
      "epoch67\n",
      "-----------\n",
      "train_loss: 0.0123     train_acc: 0.9988\n",
      "val_loss: 2.8081     val_acc: 0.7125\n",
      "\n",
      "epoch68\n",
      "-----------\n",
      "train_loss: 0.0079     train_acc: 1.0000\n",
      "val_loss: 2.9830     val_acc: 0.7075\n",
      "\n",
      "epoch69\n",
      "-----------\n",
      "train_loss: 0.0062     train_acc: 0.9988\n",
      "val_loss: 3.0042     val_acc: 0.7150\n",
      "\n",
      "epoch70\n",
      "-----------\n",
      "train_loss: 0.0345     train_acc: 0.9862\n",
      "val_loss: 1.8318     val_acc: 0.7250\n",
      "\n",
      "epoch71\n",
      "-----------\n",
      "train_loss: 0.0152     train_acc: 0.9975\n",
      "val_loss: 2.3710     val_acc: 0.7050\n",
      "\n",
      "epoch72\n",
      "-----------\n",
      "train_loss: 0.0104     train_acc: 0.9994\n",
      "val_loss: 2.5350     val_acc: 0.7025\n",
      "\n",
      "epoch73\n",
      "-----------\n",
      "train_loss: 0.0091     train_acc: 0.9988\n",
      "val_loss: 2.8698     val_acc: 0.7150\n",
      "\n",
      "epoch74\n",
      "-----------\n",
      "train_loss: 0.0178     train_acc: 0.9925\n",
      "val_loss: 2.6995     val_acc: 0.7075\n",
      "\n",
      "epoch75\n",
      "-----------\n",
      "train_loss: 0.0166     train_acc: 0.9956\n",
      "val_loss: 2.8432     val_acc: 0.7075\n",
      "\n",
      "epoch76\n",
      "-----------\n",
      "train_loss: 0.0093     train_acc: 0.9981\n",
      "val_loss: 2.7709     val_acc: 0.6975\n",
      "\n",
      "epoch77\n",
      "-----------\n",
      "train_loss: 0.0062     train_acc: 0.9988\n",
      "val_loss: 2.8142     val_acc: 0.7025\n",
      "\n",
      "epoch78\n",
      "-----------\n",
      "train_loss: 0.0112     train_acc: 0.9969\n",
      "val_loss: 2.9715     val_acc: 0.6950\n",
      "\n",
      "epoch79\n",
      "-----------\n",
      "train_loss: 0.0062     train_acc: 1.0000\n",
      "val_loss: 3.1157     val_acc: 0.7025\n",
      "\n",
      "epoch80\n",
      "-----------\n",
      "train_loss: 0.0082     train_acc: 0.9988\n",
      "val_loss: 3.2740     val_acc: 0.7050\n",
      "\n",
      "epoch81\n",
      "-----------\n",
      "train_loss: 0.0070     train_acc: 0.9994\n",
      "val_loss: 3.0558     val_acc: 0.6975\n",
      "\n",
      "epoch82\n",
      "-----------\n",
      "train_loss: 0.0080     train_acc: 0.9975\n",
      "val_loss: 3.1032     val_acc: 0.7100\n",
      "\n",
      "epoch83\n",
      "-----------\n",
      "train_loss: 0.0053     train_acc: 0.9994\n",
      "val_loss: 4.1502     val_acc: 0.7000\n",
      "\n",
      "epoch84\n",
      "-----------\n",
      "train_loss: 0.0324     train_acc: 0.9888\n",
      "val_loss: 2.2221     val_acc: 0.7025\n",
      "\n",
      "epoch85\n",
      "-----------\n",
      "train_loss: 0.0193     train_acc: 0.9944\n",
      "val_loss: 2.9270     val_acc: 0.7075\n",
      "\n",
      "epoch86\n",
      "-----------\n",
      "train_loss: 0.0065     train_acc: 0.9994\n",
      "val_loss: 3.1455     val_acc: 0.7150\n",
      "\n",
      "epoch87\n",
      "-----------\n",
      "train_loss: 0.0065     train_acc: 0.9988\n",
      "val_loss: 3.1986     val_acc: 0.7050\n",
      "\n",
      "epoch88\n",
      "-----------\n",
      "train_loss: 0.0058     train_acc: 0.9988\n",
      "val_loss: 3.1899     val_acc: 0.7050\n",
      "\n",
      "epoch89\n",
      "-----------\n",
      "train_loss: 0.0078     train_acc: 0.9981\n",
      "val_loss: 3.3431     val_acc: 0.7025\n",
      "\n",
      "epoch90\n",
      "-----------\n",
      "train_loss: 0.0061     train_acc: 0.9988\n",
      "val_loss: 2.9931     val_acc: 0.6950\n",
      "\n",
      "epoch91\n",
      "-----------\n",
      "train_loss: 0.0075     train_acc: 0.9988\n",
      "val_loss: 3.5031     val_acc: 0.6975\n",
      "\n",
      "epoch92\n",
      "-----------\n",
      "train_loss: 0.0071     train_acc: 0.9962\n",
      "val_loss: 3.1303     val_acc: 0.6950\n",
      "\n",
      "epoch93\n",
      "-----------\n",
      "train_loss: 0.0070     train_acc: 0.9981\n",
      "val_loss: 4.2100     val_acc: 0.7150\n",
      "\n",
      "epoch94\n",
      "-----------\n",
      "train_loss: 0.0104     train_acc: 0.9950\n",
      "val_loss: 3.5348     val_acc: 0.6825\n",
      "\n",
      "epoch95\n",
      "-----------\n",
      "train_loss: 0.0062     train_acc: 0.9994\n",
      "val_loss: 3.0560     val_acc: 0.7125\n",
      "\n",
      "epoch96\n",
      "-----------\n",
      "train_loss: 0.0056     train_acc: 0.9988\n",
      "val_loss: 4.2275     val_acc: 0.6950\n",
      "\n",
      "epoch97\n",
      "-----------\n",
      "train_loss: 0.0080     train_acc: 0.9981\n",
      "val_loss: 2.7702     val_acc: 0.6875\n",
      "\n",
      "epoch98\n",
      "-----------\n",
      "train_loss: 0.0047     train_acc: 0.9994\n",
      "val_loss: 3.2784     val_acc: 0.7000\n",
      "\n",
      "epoch99\n",
      "-----------\n",
      "train_loss: 0.0034     train_acc: 1.0000\n",
      "val_loss: 3.6762     val_acc: 0.7100\n",
      "\n",
      "epoch100\n",
      "-----------\n",
      "train_loss: 0.0080     train_acc: 0.9975\n",
      "val_loss: 4.3824     val_acc: 0.7075\n",
      "\n"
     ]
    },
    {
     "data": {
      "image/png": "[encoded data removed]",
      "text/plain": [
       "<Figure size 640x480 with 1 Axes>"
      ]
     },
     "metadata": {},
     "output_type": "display_data"
    },
    {
     "data": {
      "image/png": "[encoded data removed]",
      "text/plain": [
       "<Figure size 640x480 with 1 Axes>"
      ]
     },
     "metadata": {},
     "output_type": "display_data"
    },
    {
     "name": "stdout",
     "output_type": "stream",
     "text": [
      "Done!\n"
     ]
    }
   ],
   "source": [
    "# 开始训练\n",
    "min_acc = 0\n",
    "\n",
    "#model = Cnn().to(device)\n",
    "\n",
    "#optimizer = torch.optim.RMSprop(model.parameters())\n",
    "#for i in range (5):\n",
    "for i in range (1):\n",
    "    ROOT_TRAIN = TRAIN_DIRS[i]\n",
    "    ROOT_TEST = VAL_DIRS[i]\n",
    "    train_dataset = ImageFolder(ROOT_TRAIN, transform=train_transform)\n",
    "    val_dataset = ImageFolder(ROOT_TEST, transform=val_transform)\n",
    "\n",
    "    train_dataloader = DataLoader(train_dataset, batch_size=16, shuffle=True)\n",
    "    val_dataloader = DataLoader(val_dataset, batch_size=16, shuffle=True)\n",
    "    loss_train = []\n",
    "    acc_train = []\n",
    "    loss_val = []\n",
    "    acc_val = []\n",
    "\n",
    "    epoch = 100\n",
    "    for t in range(epoch):\n",
    "        #lr_scheduler.step()\n",
    "        print(f\"epoch{t+1}\\n-----------\")\n",
    "        train_loss, train_acc = train(train_dataloader, model, loss_fn, optimizer)\n",
    "        val_loss, val_acc = val(val_dataloader, model, loss_fn)\n",
    "\n",
    "        loss_train.append(train_loss)\n",
    "        acc_train.append(train_acc)\n",
    "        loss_val.append(val_loss)\n",
    "        acc_val.append(val_acc)\n",
    "    matplot_loss(loss_train, loss_val)\n",
    "    matplot_acc(acc_train, acc_val)\n",
    "print('Done!')"
   ]
  },
  {
   "cell_type": "code",
   "execution_count": 35,
   "outputs": [],
   "source": [
    "import torch\n",
    "from torch import nn\n",
    "import matplotlib.pyplot as plt\n",
    "import torch.nn.functional as F\n",
    "import time"
   ],
   "metadata": {
    "collapsed": false,
    "ExecuteTime": {
     "end_time": "2024-11-01T05:33:38.098686900Z",
     "start_time": "2024-11-01T05:33:38.069688500Z"
    }
   }
  },
  {
   "cell_type": "code",
   "execution_count": 36,
   "outputs": [],
   "source": [
    "class Cnn(nn.Module):\n",
    "    def __init__(self, input_shape):\n",
    "        super(Cnn, self).__init__()\n",
    "        self.input_shape = input_shape\n",
    "\n",
    "        self.layer1 = nn.Sequential(\n",
    "            nn.Conv2d(in_channels=input_shape[0], out_channels=32, kernel_size=3, padding=0, stride = 1),\n",
    "            nn.ReLU(),\n",
    "            nn.MaxPool2d(kernel_size=2, stride=2)\n",
    "        )\n",
    "\n",
    "        self.layer2 = nn.Sequential(\n",
    "            nn.Conv2d(in_channels=32, out_channels=32, kernel_size=3, padding=0),\n",
    "            nn.ReLU(),\n",
    "            nn.MaxPool2d(kernel_size=2, stride=2)\n",
    "        )\n",
    "\n",
    "        self.layer3 = nn.Sequential(\n",
    "            nn.Conv2d(in_channels=32, out_channels=64, kernel_size=3, padding=0),\n",
    "            nn.ReLU(),\n",
    "            nn.MaxPool2d(kernel_size=2, stride=2)\n",
    "        )\n",
    "\n",
    "        self.flatten = nn.Flatten()\n",
    "        self.fc1 = nn.Linear(18496, 128)\n",
    "        self.dropout = nn.Dropout(0.5)\n",
    "        self.fc2 = nn.Linear(128, 1)\n",
    "\n",
    "    def forward(self, x):\n",
    "        x = self.layer1(x)\n",
    "        x = self.layer2(x)\n",
    "        x = self.layer3(x)\n",
    "        x = self.flatten(x)\n",
    "        x = F.relu(self.fc1(x))\n",
    "        x = self.dropout(x)\n",
    "        x = torch.sigmoid(self.fc2(x))\n",
    "        return x.squeeze(1)\n",
    "\n",
    "input_shape = (3, 150, 150)\n",
    "from torchsummary import summary\n",
    "#summary(model, input_size=input_shape)"
   ],
   "metadata": {
    "collapsed": false,
    "ExecuteTime": {
     "end_time": "2024-11-01T05:33:38.628378600Z",
     "start_time": "2024-11-01T05:33:38.601390200Z"
    }
   }
  },
  {
   "cell_type": "code",
   "execution_count": 38,
   "outputs": [
    {
     "name": "stdout",
     "output_type": "stream",
     "text": [
      "0.003920423999961713\n"
     ]
    }
   ],
   "source": [
    "model = torch.load('cnn-torch-100.pth').to('cpu')\n",
    "model.eval()\n",
    "# 设置随机种子以确保结果的可重复性（可选）\n",
    "torch.manual_seed(0)\n",
    "# 生成250个这样的张量\n",
    "tensor_list = [torch.randn(1, 3, 150, 150) for _ in range(250)]\n",
    "all_time = []\n",
    "for i in range (250):\n",
    "    input = tensor_list[i].to('cpu')\n",
    "    start = time.perf_counter()\n",
    "    output = model(input)\n",
    "    end = time.perf_counter()\n",
    "    all_time.append(end-start)\n",
    "#print(all_time)\n",
    "all = 0\n",
    "for i in range (50,250):\n",
    "    all  += all_time[i]\n",
    "print(all/200)"
   ],
   "metadata": {
    "collapsed": false,
    "ExecuteTime": {
     "end_time": "2024-11-01T05:33:46.314489Z",
     "start_time": "2024-11-01T05:33:45.237120900Z"
    }
   }
  }
 ],
 "metadata": {
  "kernelspec": {
   "display_name": "Python 3 (ipykernel)",
   "language": "python",
   "name": "python3"
  },
  "language_info": {
   "codemirror_mode": {
    "name": "ipython",
    "version": 3
   },
   "file_extension": ".py",
   "mimetype": "text/x-python",
   "name": "python",
   "nbconvert_exporter": "python",
   "pygments_lexer": "ipython3",
   "version": "3.8.19"
  }
 },
 "nbformat": 4,
 "nbformat_minor": 4
}
