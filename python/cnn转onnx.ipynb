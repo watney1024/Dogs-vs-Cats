{
 "cells": [
  {
   "cell_type": "code",
   "execution_count": 43,
   "outputs": [],
   "source": [
    "import onnxruntime\n",
    "onnxruntime.get_device()\n",
    "import torch\n",
    "from torch import nn\n",
    "import torch.nn.functional as F"
   ],
   "metadata": {
    "collapsed": false,
    "ExecuteTime": {
     "end_time": "2024-11-08T15:24:15.138323500Z",
     "start_time": "2024-11-08T15:24:15.127092400Z"
    }
   }
  },
  {
   "cell_type": "code",
   "execution_count": 44,
   "outputs": [],
   "source": [
    "class Cnn(nn.Module):\n",
    "    def __init__(self, input_shape):\n",
    "        super(Cnn, self).__init__()\n",
    "        self.input_shape = input_shape\n",
    "\n",
    "        self.layer1 = nn.Sequential(\n",
    "            nn.Conv2d(in_channels=input_shape[0], out_channels=32, kernel_size=3, padding=0, stride = 1),\n",
    "            nn.ReLU(),\n",
    "            nn.MaxPool2d(kernel_size=2, stride=2)\n",
    "        )\n",
    "\n",
    "        self.layer2 = nn.Sequential(\n",
    "            nn.Conv2d(in_channels=32, out_channels=32, kernel_size=3, padding=0),\n",
    "            nn.ReLU(),\n",
    "            nn.MaxPool2d(kernel_size=2, stride=2)\n",
    "        )\n",
    "\n",
    "        self.layer3 = nn.Sequential(\n",
    "            nn.Conv2d(in_channels=32, out_channels=64, kernel_size=3, padding=0),\n",
    "            nn.ReLU(),\n",
    "            nn.MaxPool2d(kernel_size=2, stride=2)\n",
    "        )\n",
    "\n",
    "        self.flatten = nn.Flatten()\n",
    "        self.fc1 = nn.Linear(18496, 128)\n",
    "        self.dropout = nn.Dropout(0.5)\n",
    "        self.fc2 = nn.Linear(128, 1)\n",
    "\n",
    "    def forward(self, x):\n",
    "        x = self.layer1(x)\n",
    "        x = self.layer2(x)\n",
    "        x = self.layer3(x)\n",
    "        x = self.flatten(x)\n",
    "        x = F.relu(self.fc1(x))\n",
    "        x = self.dropout(x)\n",
    "        x = torch.sigmoid(self.fc2(x))\n",
    "        return x.squeeze(1)\n",
    "\n",
    "input_shape = (3, 150, 150)\n",
    "\n",
    "from torchsummary import summary\n",
    "#summary(model, input_size=input_shape)"
   ],
   "metadata": {
    "collapsed": false,
    "ExecuteTime": {
     "end_time": "2024-11-08T15:24:15.159743400Z",
     "start_time": "2024-11-08T15:24:15.140440900Z"
    }
   }
  },
  {
   "cell_type": "code",
   "execution_count": 45,
   "outputs": [],
   "source": [
    "device = 'cuda' if torch.cuda.is_available() else 'cpu'\n",
    "torch.manual_seed(1234)\n",
    "if device =='cuda':\n",
    "    torch.cuda.manual_seed_all(1234)"
   ],
   "metadata": {
    "collapsed": false,
    "ExecuteTime": {
     "end_time": "2024-11-08T15:24:15.189636900Z",
     "start_time": "2024-11-08T15:24:15.149035900Z"
    }
   }
  },
  {
   "cell_type": "code",
   "execution_count": 46,
   "outputs": [],
   "source": [
    "model = torch.load('cnn-torch-100.pth')\n",
    "model.eval()\n",
    "x = torch.randn(1,3, 150, 150).to(device)\n",
    "with torch.no_grad():\n",
    "    torch.onnx.export(\n",
    "        model,                       # 要转换的模型\n",
    "        x,                           # 模型的任意一组输入\n",
    "        'cnn-torch-100.onnx',    # 导出的 ONNX 文件名\n",
    "        opset_version=11,            # ONNX 算子集版本\n",
    "        input_names=['input'],       # 输入 Tensor 的名称（自己起名字）\n",
    "        output_names=['output']      # 输出 Tensor 的名称（自己起名字）\n",
    "    )"
   ],
   "metadata": {
    "collapsed": false,
    "ExecuteTime": {
     "end_time": "2024-11-08T15:24:15.269129200Z",
     "start_time": "2024-11-08T15:24:15.166579200Z"
    }
   }
  },
  {
   "cell_type": "code",
   "execution_count": 47,
   "outputs": [],
   "source": [
    "ort_session = onnxruntime.InferenceSession('cnn-torch-100.onnx')"
   ],
   "metadata": {
    "collapsed": false,
    "ExecuteTime": {
     "end_time": "2024-11-08T15:24:15.310132800Z",
     "start_time": "2024-11-08T15:24:15.273567Z"
    }
   }
  },
  {
   "cell_type": "code",
   "execution_count": 48,
   "outputs": [],
   "source": [
    "device = 'cuda'\n",
    "input_data = torch.zeros(1,3,150,150) # 创建一个形状为(1, 18496)的张量\n",
    "for i in range(0,3):\n",
    "    for j in range (0,150):\n",
    "        for k in range (0,150):\n",
    "            input_data[0,i,j,k] = torch.sin(torch.tensor(i*150*150+j*150+k)) # 使用PyTorch的sin函数"
   ],
   "metadata": {
    "collapsed": false,
    "ExecuteTime": {
     "end_time": "2024-11-08T15:24:16.726329700Z",
     "start_time": "2024-11-08T15:24:15.305745200Z"
    }
   }
  },
  {
   "cell_type": "code",
   "execution_count": 49,
   "outputs": [
    {
     "name": "stdout",
     "output_type": "stream",
     "text": [
      "[1.]\n"
     ]
    }
   ],
   "source": [
    "ort_inputs = {'input': input_data.numpy()}\n",
    "pred= ort_session.run(['output'], ort_inputs)[0]\n",
    "print(pred)\n"
   ],
   "metadata": {
    "collapsed": false,
    "ExecuteTime": {
     "end_time": "2024-11-08T15:24:16.740281700Z",
     "start_time": "2024-11-08T15:24:16.729672800Z"
    }
   }
  }
 ],
 "metadata": {
  "kernelspec": {
   "display_name": "Python 3",
   "language": "python",
   "name": "python3"
  },
  "language_info": {
   "codemirror_mode": {
    "name": "ipython",
    "version": 2
   },
   "file_extension": ".py",
   "mimetype": "text/x-python",
   "name": "python",
   "nbconvert_exporter": "python",
   "pygments_lexer": "ipython2",
   "version": "2.7.6"
  }
 },
 "nbformat": 4,
 "nbformat_minor": 0
}
